{
  "nbformat": 4,
  "nbformat_minor": 0,
  "metadata": {
    "colab": {
      "provenance": []
    },
    "kernelspec": {
      "name": "python3",
      "display_name": "Python 3"
    },
    "language_info": {
      "name": "python"
    }
  },
  "cells": [
    {
      "cell_type": "code",
      "execution_count": null,
      "metadata": {
        "id": "kyZIiYc0Oq2r"
      },
      "outputs": [],
      "source": [
        "#Load libraries\n",
        "import pandas as pd\n",
        "import numpy as np\n",
        "from sklearn.tree import DecisionTreeClassifier\n",
        "from sklearn.tree import export_graphviz,plot_tree\n",
        "from IPython.display import Image"
      ]
    },
    {
      "cell_type": "code",
      "source": [
        "df=pd.read_csv(\"/content/drive/MyDrive/Colab Notebooks/demoDT.csv\",sep=\",\")\n",
        "print(df)"
      ],
      "metadata": {
        "colab": {
          "base_uri": "https://localhost:8080/"
        },
        "id": "VFGn4patQhoM",
        "outputId": "a614cc11-9aab-4efd-8d52-5d0a4a59dd88"
      },
      "execution_count": null,
      "outputs": [
        {
          "output_type": "stream",
          "name": "stdout",
          "text": [
            "   State  Literacy   Cleanliness   Crime_Rate  good\n",
            "0      A        92            90           54     0\n",
            "1      B        56            67           50     1\n",
            "2      C        78            80           62     0\n",
            "3      D        85            75           48     1\n",
            "4      E        60            82           55     0\n",
            "5      F        72            78           60     0\n",
            "6      G        88            85           45     0\n",
            "7      H        64            70           58     1\n",
            "8      I        90            88           42     0\n",
            "9      J        68            72           65     1\n",
            "10     K        75            79           57     0\n",
            "11     L        82            86           49     0\n",
            "12     M        58            65           63     1\n",
            "13     N        77            76           52     0\n",
            "14     O        94            91           40     1\n",
            "15     P        63            74           61     0\n",
            "16     Q        79            83           47     0\n",
            "17     R        71            68           59     0\n",
            "18     S        86            89           43     1\n",
            "19     T        66            71           64     1\n",
            "20     U        81            81           51     0\n",
            "21     V        70            77           56     0\n",
            "22     W        87            84           46     1\n",
            "23     X        62            69           66     0\n",
            "24     Y        76            73           53     1\n",
            "25     Z        83            87           44     1\n"
          ]
        }
      ]
    },
    {
      "cell_type": "code",
      "source": [
        "feature_cols=['Literacy',' Cleanliness',' Crime_Rate']\n",
        "feature=df[feature_cols] #feature\n",
        "Target=df.good #Target variable"
      ],
      "metadata": {
        "id": "jaVHUtM-Rvw5"
      },
      "execution_count": null,
      "outputs": []
    },
    {
      "cell_type": "code",
      "source": [
        "#create Decision Tree classifier object\n",
        "DT=DecisionTreeClassifier()\n",
        "#Train Decision Tree classifier\n",
        "DT=DT.fit(feature,Target)"
      ],
      "metadata": {
        "id": "2UESTCgSRzxB"
      },
      "execution_count": null,
      "outputs": []
    },
    {
      "cell_type": "code",
      "source": [
        "#predict the response for test datset\n",
        "l=int(input('Enter Literacy: '))\n",
        "cl=int(input(\"Enter cleanliness: \"))\n",
        "cr=int(input(\"Enter CrimeRate: \"))\n",
        "pred=DT.predict([[l,cl,cr]])\n",
        "if pred==1:\n",
        "  print(\"Good State\")\n",
        "else:\n",
        "  print(\"Bad State\")5"
      ],
      "metadata": {
        "colab": {
          "base_uri": "https://localhost:8080/"
        },
        "id": "f_G1f2yCR4Gn",
        "outputId": "b9795ade-5186-499b-e95c-ffee69ec489a"
      },
      "execution_count": null,
      "outputs": [
        {
          "output_type": "stream",
          "name": "stdout",
          "text": [
            "Enter Literacy: 92\n",
            "Enter cleanliness: 90\n",
            "Enter CrimeRate: 54\n",
            "Bad State\n"
          ]
        },
        {
          "output_type": "stream",
          "name": "stderr",
          "text": [
            "/usr/local/lib/python3.10/dist-packages/sklearn/base.py:439: UserWarning: X does not have valid feature names, but DecisionTreeClassifier was fitted with feature names\n",
            "  warnings.warn(\n"
          ]
        }
      ]
    },
    {
      "cell_type": "code",
      "source": [
        "plot_tree(DT)  #plot_tree(trained model name)"
      ],
      "metadata": {
        "id": "C972T_TsR_c2",
        "outputId": "93e8b423-2c50-4ac5-fabe-e99240321521",
        "colab": {
          "base_uri": "https://localhost:8080/",
          "height": 678
        }
      },
      "execution_count": null,
      "outputs": [
        {
          "output_type": "execute_result",
          "data": {
            "text/plain": [
              "[Text(0.5, 0.9, 'x[1] <= 75.5\\ngini = 0.488\\nsamples = 26\\nvalue = [15, 11]'),\n",
              " Text(0.2, 0.7, 'x[2] <= 58.5\\ngini = 0.42\\nsamples = 10\\nvalue = [3, 7]'),\n",
              " Text(0.1, 0.5, 'gini = 0.0\\nsamples = 4\\nvalue = [0, 4]'),\n",
              " Text(0.3, 0.5, 'x[2] <= 62.0\\ngini = 0.5\\nsamples = 6\\nvalue = [3, 3]'),\n",
              " Text(0.2, 0.3, 'gini = 0.0\\nsamples = 2\\nvalue = [2, 0]'),\n",
              " Text(0.4, 0.3, 'x[2] <= 65.5\\ngini = 0.375\\nsamples = 4\\nvalue = [1, 3]'),\n",
              " Text(0.3, 0.1, 'gini = 0.0\\nsamples = 3\\nvalue = [0, 3]'),\n",
              " Text(0.5, 0.1, 'gini = 0.0\\nsamples = 1\\nvalue = [1, 0]'),\n",
              " Text(0.8, 0.7, 'x[2] <= 46.5\\ngini = 0.375\\nsamples = 16\\nvalue = [12, 4]'),\n",
              " Text(0.7, 0.5, 'x[0] <= 87.5\\ngini = 0.444\\nsamples = 6\\nvalue = [2, 4]'),\n",
              " Text(0.6, 0.3, 'gini = 0.0\\nsamples = 3\\nvalue = [0, 3]'),\n",
              " Text(0.8, 0.3, 'x[2] <= 41.0\\ngini = 0.444\\nsamples = 3\\nvalue = [2, 1]'),\n",
              " Text(0.7, 0.1, 'gini = 0.0\\nsamples = 1\\nvalue = [0, 1]'),\n",
              " Text(0.9, 0.1, 'gini = 0.0\\nsamples = 2\\nvalue = [2, 0]'),\n",
              " Text(0.9, 0.5, 'gini = 0.0\\nsamples = 10\\nvalue = [10, 0]')]"
            ]
          },
          "metadata": {},
          "execution_count": 16
        },
        {
          "output_type": "display_data",
          "data": {
            "text/plain": [
              "<Figure size 640x480 with 1 Axes>"
            ],
            "image/png": "[encoded data removed]"
          },
          "metadata": {}
        }
      ]
    },
    {
      "cell_type": "code",
      "source": [
        "#load libraries\n",
        "import pandas as pd\n",
        "import numpy as np\n",
        "from sklearn.ensemble import RandomForestClassifier\n"
      ],
      "metadata": {
        "id": "x5Y0wAmJO2x9"
      },
      "execution_count": null,
      "outputs": []
    },
    {
      "cell_type": "code",
      "source": [
        "df=pd.read_csv(\"/content/drive/MyDrive/Colab Notebooks/demoDT.csv\",sep=\",\")\n"
      ],
      "metadata": {
        "id": "JeNAuQW5Pqzg"
      },
      "execution_count": null,
      "outputs": []
    },
    {
      "cell_type": "code",
      "source": [
        "feature_cols=['Literacy',' Cleanliness',' Crime_Rate']\n",
        "feature=df[feature_cols] #feature\n",
        "Target=df.good #Target variable"
      ],
      "metadata": {
        "id": "JhlKSIIXP3Af"
      },
      "execution_count": null,
      "outputs": []
    },
    {
      "cell_type": "code",
      "source": [
        "RF=RandomForestClassifier(n_estimators=10) #100 default\n",
        "RF.fit(feature,Target)"
      ],
      "metadata": {
        "colab": {
          "base_uri": "https://localhost:8080/",
          "height": 74
        },
        "id": "peqak46OQFYH",
        "outputId": "048514dc-c605-4a81-98df-98e94f4e9746"
      },
      "execution_count": null,
      "outputs": [
        {
          "output_type": "execute_result",
          "data": {
            "text/plain": [
              "RandomForestClassifier(n_estimators=10)"
            ],
            "text/html": [
              "<style>#sk-container-id-1 {color: black;background-color: white;}#sk-container-id-1 pre{padding: 0;}#sk-container-id-1 div.sk-toggleable {background-color: white;}#sk-container-id-1 label.sk-toggleable__label {cursor: pointer;display: block;width: 100%;margin-bottom: 0;padding: 0.3em;box-sizing: border-box;text-align: center;}#sk-container-id-1 label.sk-toggleable__label-arrow:before {content: \"▸\";float: left;margin-right: 0.25em;color: #696969;}#sk-container-id-1 label.sk-toggleable__label-arrow:hover:before {color: black;}#sk-container-id-1 div.sk-estimator:hover label.sk-toggleable__label-arrow:before {color: black;}#sk-container-id-1 div.sk-toggleable__content {max-height: 0;max-width: 0;overflow: hidden;text-align: left;background-color: #f0f8ff;}#sk-container-id-1 div.sk-toggleable__content pre {margin: 0.2em;color: black;border-radius: 0.25em;background-color: #f0f8ff;}#sk-container-id-1 input.sk-toggleable__control:checked~div.sk-toggleable__content {max-height: 200px;max-width: 100%;overflow: auto;}#sk-container-id-1 input.sk-toggleable__control:checked~label.sk-toggleable__label-arrow:before {content: \"▾\";}#sk-container-id-1 div.sk-estimator input.sk-toggleable__control:checked~label.sk-toggleable__label {background-color: #d4ebff;}#sk-container-id-1 div.sk-label input.sk-toggleable__control:checked~label.sk-toggleable__label {background-color: #d4ebff;}#sk-container-id-1 input.sk-hidden--visually {border: 0;clip: rect(1px 1px 1px 1px);clip: rect(1px, 1px, 1px, 1px);height: 1px;margin: -1px;overflow: hidden;padding: 0;position: absolute;width: 1px;}#sk-container-id-1 div.sk-estimator {font-family: monospace;background-color: #f0f8ff;border: 1px dotted black;border-radius: 0.25em;box-sizing: border-box;margin-bottom: 0.5em;}#sk-container-id-1 div.sk-estimator:hover {background-color: #d4ebff;}#sk-container-id-1 div.sk-parallel-item::after {content: \"\";width: 100%;border-bottom: 1px solid gray;flex-grow: 1;}#sk-container-id-1 div.sk-label:hover label.sk-toggleable__label {background-color: #d4ebff;}#sk-container-id-1 div.sk-serial::before {content: \"\";position: absolute;border-left: 1px solid gray;box-sizing: border-box;top: 0;bottom: 0;left: 50%;z-index: 0;}#sk-container-id-1 div.sk-serial {display: flex;flex-direction: column;align-items: center;background-color: white;padding-right: 0.2em;padding-left: 0.2em;position: relative;}#sk-container-id-1 div.sk-item {position: relative;z-index: 1;}#sk-container-id-1 div.sk-parallel {display: flex;align-items: stretch;justify-content: center;background-color: white;position: relative;}#sk-container-id-1 div.sk-item::before, #sk-container-id-1 div.sk-parallel-item::before {content: \"\";position: absolute;border-left: 1px solid gray;box-sizing: border-box;top: 0;bottom: 0;left: 50%;z-index: -1;}#sk-container-id-1 div.sk-parallel-item {display: flex;flex-direction: column;z-index: 1;position: relative;background-color: white;}#sk-container-id-1 div.sk-parallel-item:first-child::after {align-self: flex-end;width: 50%;}#sk-container-id-1 div.sk-parallel-item:last-child::after {align-self: flex-start;width: 50%;}#sk-container-id-1 div.sk-parallel-item:only-child::after {width: 0;}#sk-container-id-1 div.sk-dashed-wrapped {border: 1px dashed gray;margin: 0 0.4em 0.5em 0.4em;box-sizing: border-box;padding-bottom: 0.4em;background-color: white;}#sk-container-id-1 div.sk-label label {font-family: monospace;font-weight: bold;display: inline-block;line-height: 1.2em;}#sk-container-id-1 div.sk-label-container {text-align: center;}#sk-container-id-1 div.sk-container {/* jupyter's `normalize.less` sets `[hidden] { display: none; }` but bootstrap.min.css set `[hidden] { display: none !important; }` so we also need the `!important` here to be able to override the default hidden behavior on the sphinx rendered scikit-learn.org. See: https://github.com/scikit-learn/scikit-learn/issues/21755 */display: inline-block !important;position: relative;}#sk-container-id-1 div.sk-text-repr-fallback {display: none;}</style><div id=\"sk-container-id-1\" class=\"sk-top-container\"><div class=\"sk-text-repr-fallback\"><pre>RandomForestClassifier(n_estimators=10)</pre><b>In a Jupyter environment, please rerun this cell to show the HTML representation or trust the notebook. <br />On GitHub, the HTML representation is unable to render, please try loading this page with nbviewer.org.</b></div><div class=\"sk-container\" hidden><div class=\"sk-item\"><div class=\"sk-estimator sk-toggleable\"><input class=\"sk-toggleable__control sk-hidden--visually\" id=\"sk-estimator-id-1\" type=\"checkbox\" checked><label for=\"sk-estimator-id-1\" class=\"sk-toggleable__label sk-toggleable__label-arrow\">RandomForestClassifier</label><div class=\"sk-toggleable__content\"><pre>RandomForestClassifier(n_estimators=10)</pre></div></div></div></div></div>"
            ]
          },
          "metadata": {},
          "execution_count": 6
        }
      ]
    },
    {
      "cell_type": "code",
      "source": [
        "#predict the response for test datset\n",
        "l=int(input('Enter Literacy: '))\n",
        "cl=int(input(\"Enter cleanliness: \"))\n",
        "cr=int(input(\"Enter CrimeRate: \"))\n",
        "pred=RF.predict([[l,cl,cr]])\n",
        "if pred==1:\n",
        "  print(\"Good State\")\n",
        "else:\n",
        "  print(\"Bad State\")"
      ],
      "metadata": {
        "colab": {
          "base_uri": "https://localhost:8080/"
        },
        "id": "_qVLEVZ6QUTx",
        "outputId": "6465a7e8-cb70-4bdb-921f-69d8e2868a74"
      },
      "execution_count": null,
      "outputs": [
        {
          "output_type": "stream",
          "name": "stdout",
          "text": [
            "Enter Literacy: 92\n",
            "Enter cleanliness: 90\n",
            "Enter CrimeRate: 54\n",
            "Bad State\n"
          ]
        },
        {
          "output_type": "stream",
          "name": "stderr",
          "text": [
            "/usr/local/lib/python3.10/dist-packages/sklearn/base.py:439: UserWarning: X does not have valid feature names, but RandomForestClassifier was fitted with feature names\n",
            "  warnings.warn(\n"
          ]
        }
      ]
    },
    {
      "cell_type": "code",
      "source": [
        "#Saving all decision Trees\n",
        "import os\n",
        "output_dir= \"tree_visualizations\"\n",
        "os.makedirs(output_dir,exist_ok=True)"
      ],
      "metadata": {
        "id": "OaPOAS69RIGd"
      },
      "execution_count": null,
      "outputs": []
    },
    {
      "cell_type": "code",
      "source": [
        "RF.estimators_#model name=RF"
      ],
      "metadata": {
        "colab": {
          "base_uri": "https://localhost:8080/"
        },
        "id": "tkvl9yO9RhqV",
        "outputId": "5bc2aa7f-948b-45ef-a399-c78dc916a779"
      },
      "execution_count": null,
      "outputs": [
        {
          "output_type": "execute_result",
          "data": {
            "text/plain": [
              "[DecisionTreeClassifier(max_features='sqrt', random_state=447333516),\n",
              " DecisionTreeClassifier(max_features='sqrt', random_state=1746335392),\n",
              " DecisionTreeClassifier(max_features='sqrt', random_state=2118863707),\n",
              " DecisionTreeClassifier(max_features='sqrt', random_state=1485290936),\n",
              " DecisionTreeClassifier(max_features='sqrt', random_state=315746898),\n",
              " DecisionTreeClassifier(max_features='sqrt', random_state=524058356),\n",
              " DecisionTreeClassifier(max_features='sqrt', random_state=865082171),\n",
              " DecisionTreeClassifier(max_features='sqrt', random_state=174379541),\n",
              " DecisionTreeClassifier(max_features='sqrt', random_state=1841521130),\n",
              " DecisionTreeClassifier(max_features='sqrt', random_state=813058082)]"
            ]
          },
          "metadata": {},
          "execution_count": 12
        }
      ]
    },
    {
      "cell_type": "code",
      "source": [],
      "metadata": {
        "id": "M1rvXbgbRsvD"
      },
      "execution_count": null,
      "outputs": []
    }
  ]
}