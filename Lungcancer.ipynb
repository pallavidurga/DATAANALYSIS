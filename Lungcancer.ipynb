{
  "nbformat": 4,
  "nbformat_minor": 0,
  "metadata": {
    "colab": {
      "provenance": []
    },
    "kernelspec": {
      "name": "python3",
      "display_name": "Python 3"
    },
    "language_info": {
      "name": "python"
    }
  },
  "cells": [
    {
      "cell_type": "code",
      "execution_count": 24,
      "metadata": {
        "id": "TU7J4dp811j1"
      },
      "outputs": [],
      "source": [
        "import tensorflow as tf\n",
        "from tensorflow import keras\n",
        "from tensorflow.keras import layers\n",
        "from tensorflow.keras.preprocessing.image import ImageDataGenerator\n",
        "#Define image size and batch size\n",
        "IMG_SIZE=224\n",
        "BATCH_SIZE=32\n"
      ]
    },
    {
      "cell_type": "code",
      "source": [
        "#Define data generators for train,validation and test sets\n",
        "train_datagen=ImageDataGenerator(\n",
        "    rescale=1./255,\n",
        "    validation_split=0.2\n",
        ")\n",
        "train_generator=train_datagen.flow_from_directory('/content/drive/MyDrive/Database1/soc-3/archive (2)/Data/The IQ-OTHNCCD lung cancer dataset/train',\n",
        "                target_size=(IMG_SIZE,IMG_SIZE),\n",
        "                batch_size=BATCH_SIZE,\n",
        "                class_mode='binary',\n",
        "                subset='training'\n",
        ")\n",
        "val_generator=train_datagen.flow_from_directory('/content/drive/MyDrive/Database1/soc-3/archive (2)/Data/The IQ-OTHNCCD lung cancer dataset/train',\n",
        "                target_size=(IMG_SIZE,IMG_SIZE),\n",
        "                batch_size=BATCH_SIZE,\n",
        "                class_mode='binary',\n",
        "                subset='validation'\n",
        ")\n",
        "test_datagen=ImageDataGenerator(rescale=1./255)\n",
        "\n",
        "test_generator=test_datagen.flow_from_directory('/content/drive/MyDrive/Database1/soc-3/archive (2)/Data/The IQ-OTHNCCD lung cancer dataset/test',\n",
        "                target_size=(IMG_SIZE,IMG_SIZE),\n",
        "                batch_size=BATCH_SIZE,\n",
        "                class_mode='binary',\n",
        "\n",
        ")"
      ],
      "metadata": {
        "colab": {
          "base_uri": "https://localhost:8080/"
        },
        "id": "KPGLABxc218M",
        "outputId": "67aed6f1-e541-4a58-d240-4ff6f9e2b88a"
      },
      "execution_count": 26,
      "outputs": [
        {
          "output_type": "stream",
          "name": "stdout",
          "text": [
            "Found 588 images belonging to 2 classes.\n",
            "Found 146 images belonging to 2 classes.\n",
            "Found 1339 images belonging to 1 classes.\n"
          ]
        }
      ]
    },
    {
      "cell_type": "code",
      "source": [
        "#Define the model\n",
        "model=keras.Sequential([\n",
        "    layers.Conv2D(32,(3,3),activation='relu',input_shape=(IMG_SIZE,IMG_SIZE,3)),\n",
        "    layers.MaxPooling2D((2,2)),\n",
        "    layers.Conv2D(64,(3,3),activation='relu'),\n",
        "    layers.MaxPooling2D((2,2)),\n",
        "    layers.Conv2D(128,(3,3),activation='relu'),\n",
        "    layers.MaxPooling2D((2,2)),\n",
        "    layers.Flatten(),\n",
        "    layers.Dense(128,activation='relu'),\n",
        "    layers.Dense(1,activation='sigmoid'),\n",
        "])"
      ],
      "metadata": {
        "id": "DljF69XN8bt_"
      },
      "execution_count": 27,
      "outputs": []
    },
    {
      "cell_type": "code",
      "source": [
        "#compile the model\n",
        "model.compile(optimizer='adam',loss='binary_crossentropy',metrics=['accuracy'])"
      ],
      "metadata": {
        "id": "ik3dQwRXA5Jm"
      },
      "execution_count": 28,
      "outputs": []
    },
    {
      "cell_type": "code",
      "source": [
        "history = model.fit(train_generator,validation_data=val_generator,epochs=5)"
      ],
      "metadata": {
        "colab": {
          "base_uri": "https://localhost:8080/"
        },
        "id": "8cnVG9ZWBUDf",
        "outputId": "b11e24d8-6646-47db-a0ac-1f28350702b8"
      },
      "execution_count": null,
      "outputs": [
        {
          "output_type": "stream",
          "name": "stdout",
          "text": [
            "Epoch 1/5\n",
            "49/49 [==============================] - 290s 6s/step - loss: 0.6457 - accuracy: 0.7136 - val_loss: 0.2938 - val_accuracy: 0.9126\n",
            "Epoch 2/5\n",
            "49/49 [==============================] - 189s 4s/step - loss: 0.2120 - accuracy: 0.9156 - val_loss: 0.8034 - val_accuracy: 0.8535\n",
            "Epoch 3/5\n",
            "49/49 [==============================] - 199s 4s/step - loss: 0.0725 - accuracy: 0.9776 - val_loss: 0.5435 - val_accuracy: 0.8766\n",
            "Epoch 4/5\n",
            "49/49 [==============================] - 209s 4s/step - loss: 0.0303 - accuracy: 0.9898 - val_loss: 0.3760 - val_accuracy: 0.9332\n",
            "Epoch 5/5\n",
            "49/49 [==============================] - 197s 4s/step - loss: 0.0047 - accuracy: 0.9987 - val_loss: 1.1068 - val_accuracy: 0.8406\n"
          ]
        }
      ]
    },
    {
      "cell_type": "code",
      "source": [
        "model.save(\"Model.h5\",\"label.txt\")"
      ],
      "metadata": {
        "id": "4VyigBMbGPSp"
      },
      "execution_count": 30,
      "outputs": []
    },
    {
      "cell_type": "code",
      "source": [
        "from tensorflow.keras.models import load_model\n",
        "from tensorflow.keras.preprocessing import image\n",
        "import numpy as np\n",
        "#load the saved model\n",
        "model=load_model('/content/Model.h5')\n",
        "#load and preprocess the test image\n",
        "test_image_path='/content/drive/MyDrive/Database1/soc-3/archive (2)/Data/The IQ-OTHNCCD lung cancer dataset/train/Malignant cases/000004 (5).png'\n",
        "img=image.load_img(test_image_path,target_size=(224,224))\n",
        "img_array=image.img_to_array(img)\n",
        "img_array=np.expand_dims(img_array,axis=0)#Add batch dimension\n",
        "img_array /=255. #Normalize the pixel values\n",
        "#Make predictions\n",
        "prediction=model.predict(img_array)\n",
        "#Print the prediction\n",
        "if prediction<0.5:\n",
        "  print(\"Prediction: Marginal cases (Probability:\",prediction[0][0],\")\")\n",
        "else:\n",
        "  print(\"Prediction: Bengin cases (Probability:\",prediction[0][0],\")\")"
      ],
      "metadata": {
        "colab": {
          "base_uri": "https://localhost:8080/"
        },
        "id": "XO0LKYaLGjsM",
        "outputId": "0c2d580a-aa34-484c-c8d0-d5b0c446f030"
      },
      "execution_count": 37,
      "outputs": [
        {
          "output_type": "stream",
          "name": "stdout",
          "text": [
            "1/1 [==============================] - 0s 138ms/step\n",
            "Prediction: Marginal cases (Probability: 9.3522226e-07 )\n"
          ]
        }
      ]
    }
  ]
}